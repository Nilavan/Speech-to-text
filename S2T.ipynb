{
  "nbformat": 4,
  "nbformat_minor": 0,
  "metadata": {
    "colab": {
      "name": "S2T.ipynb",
      "provenance": [],
      "collapsed_sections": [],
      "mount_file_id": "1y6ttTKzB8JVRfcbnggk-t5af0iBYy5fB",
      "authorship_tag": "ABX9TyNl3Er50fR89HwMlG6I7ga9",
      "include_colab_link": true
    },
    "kernelspec": {
      "name": "python3",
      "display_name": "Python 3"
    },
    "language_info": {
      "name": "python"
    }
  },
  "cells": [
    {
      "cell_type": "markdown",
      "metadata": {
        "id": "view-in-github",
        "colab_type": "text"
      },
      "source": [
        "<a href=\"https://colab.research.google.com/github/Nilavan/Speech-to-text/blob/main/S2T.ipynb\" target=\"_parent\"><img src=\"https://colab.research.google.com/assets/colab-badge.svg\" alt=\"Open In Colab\"/></a>"
      ]
    },
    {
      "cell_type": "markdown",
      "metadata": {
        "id": "FAt4S0vr7YEu"
      },
      "source": [
        "# Trial run"
      ]
    },
    {
      "cell_type": "code",
      "metadata": {
        "id": "ujJS997ynj6i"
      },
      "source": [
        "!pip install transformers"
      ],
      "execution_count": null,
      "outputs": []
    },
    {
      "cell_type": "code",
      "metadata": {
        "id": "wM1dv2NFo2xO"
      },
      "source": [
        "import librosa\n",
        "import torch\n",
        "from transformers import Wav2Vec2ForCTC, Wav2Vec2Tokenizer"
      ],
      "execution_count": 32,
      "outputs": []
    },
    {
      "cell_type": "code",
      "metadata": {
        "id": "iZ0jOCj8o8-W"
      },
      "source": [
        "import IPython.display as display\n",
        "display.Audio(\"/content/Sundar_Pichai.wav\", autoplay=True)"
      ],
      "execution_count": 33,
      "outputs": []
    },
    {
      "cell_type": "markdown",
      "metadata": {
        "id": "aRBa6Y8t8R_f"
      },
      "source": [
        "# Main"
      ]
    },
    {
      "cell_type": "code",
      "metadata": {
        "id": "azkQzrzz7JuW"
      },
      "source": [
        "def asr_transcript(tokenizer, model, audio_file):\n",
        "    transcript = \"\"\n",
        "\n",
        "    # Stream over 30 seconds chunks\n",
        "    stream = librosa.stream(\n",
        "        audio_file, block_length=30, frame_length=16000, hop_length=16000\n",
        "    )\n",
        "\n",
        "    for speech in stream:\n",
        "        if len(speech.shape) > 1:\n",
        "            speech = speech[:, 0] + speech[:, 1]\n",
        "\n",
        "        input_values = tokenizer(speech, return_tensors=\"pt\").input_values\n",
        "        logits = model(input_values).logits\n",
        "\n",
        "        predicted_ids = torch.argmax(logits, dim=-1)\n",
        "        transcription = tokenizer.decode(predicted_ids[0])\n",
        "        transcript += transcription.lower() + \" \"\n",
        "        \n",
        "    return transcript"
      ],
      "execution_count": 34,
      "outputs": []
    },
    {
      "cell_type": "code",
      "metadata": {
        "id": "P49BdHXO7O1k"
      },
      "source": [
        "tokenizer = Wav2Vec2Tokenizer.from_pretrained(\"facebook/wav2vec2-base-960h\")\n",
        "model = Wav2Vec2ForCTC.from_pretrained(\"facebook/wav2vec2-base-960h\")\n",
        "\n",
        "audio_file = \"/content/Sundar_Pichai.wav\""
      ],
      "execution_count": null,
      "outputs": []
    },
    {
      "cell_type": "code",
      "metadata": {
        "colab": {
          "base_uri": "https://localhost:8080/"
        },
        "id": "ZnSQyaKOAiA8",
        "outputId": "0c709f88-eb01-4b07-a2ad-c7e2458b6842"
      },
      "source": [
        "transcript = asr_transcript(tokenizer, model, audio_file)\n",
        "print(transcript)"
      ],
      "execution_count": null,
      "outputs": [
        {
          "output_type": "stream",
          "name": "stdout",
          "text": [
            "thank you a thank you to the prisonent for conmening the globalontrponeship's summit and to standford for hosting we at gugo are proud to be supporting this summit and we are passionate about ontrponership this is such an important issue for our company but also for our country and for a community of antroponers around the world at gugo antebanarship is in aurdianee guge was founded here at stanford and the company's first home was in a garage just a couple miles from here like many of you in the arience our founders were two young people with a vision of a better future a better way and and they decided to follow their dreams we now live on our own campas down the road and in dozens of countries for the spipit continues in fact our most popular products almost all began as big ideas that small ontroponrial teams dreamed up and made happen gemale stottered with one person's passion to reamand demale to day it has over one billion monthly activ uses our brows are crone a small teams opsession to bring a faster more secure wep to every one now has over a billion monthly actie uses cardboard our virtual reality ve were two ingineors in her paris office had an idea of watz possible with a piece of cardboard and a phone now more than five million viwors are taking people to new worlds using cardboard teachers can take their classes on virtual field trips from the great barrier reve to march apitsue first lady michelvarma made this part of her reach higher education in issued more than one million students from leaven countries have gone on virtual field trips and to day we are making cardboard available to elgibitiku centrs around the world so people who cannot physically attend pride parades and festivals this weacon can still have the pride experience all of this came from two engineeuses in pariss bright idea we don't know what's next or where'll come from but we know that the barrias to ontrpunaship and to bringing ideas to global ar eances are tumbling people working anywhere in the world born anywhere in the world can create a product and make it available to anyone in the world the most used messaging ap in southeastatia was built by a young man born a eucrane humud the ewas and the three most popular vidal games in the euas in recent years came from anterponers in femlin ireland and weit now yore ther once building the next schoolgo the next pardy f y the next desla the next while we don't even know but what i know is that some one in this room will bullet may be someone even from the cast of silikan valley let me tell you a little bit about my personal journey to slikan valley from india twenty two years ago growing up in india like many of you i got my first telephone when i was twelve in my case it turned out to be a roteryphone so it wasn't that great for selfease but i still lov p to call my friends play with it and sometimes take it apart that telephone cemented my fascination with acnology i remember in my parents house in channi reading about the invention of the trancestor at betelapse of course that initial invention help found ward became known as silican valley and out of that came companies like fachile semi conductor and intol and all the computers and software that we all used to day you can draw it der ect line from that invention to the techknology that powers your twitter feed or your reach at message yesterday i remember reading about that and thinking it's the idea that matters it didn't matter where you come from or wart your backgrounders one revolutionary idea one brilliant invention can unleishe other onteponers to revolutionis industries and ways you could never predict the people who build ta transistor in many ways enable the answer perners who are using incredible processing power to analyze data and diagnos cancer in the same way the invention of smart pones an gipias has enabled other companies to build abs that revolutionari tov ad we travel a on cities that's why i came here i had a deep desire to be part of this exchange of ideas this community of ontroponers and coming to the global hub where this was all happening it stand f erd i felt welcomed and embraced people dodn't care where i came from only my ideas and hard work matter iam not alone the valley attracts people from all over the world that is why you are here iam excited that over seven hundred antroponeurs from over hundred and seventy countries are joining us here to day the possibility that anyone with the right idea at the right time can have an impact on others there is no longer limit it to a single place it's possible everywhere what we are seeing now is an unprecedented global opportunity in china a few months ago i met anserbeners combining social commerce and business platforms in enterly new and unique was and earlier i mentioned a game buil by an anserproner from be it now when i was last invy it no i met him his name is donglien and he created flappy ord here was a deviloper from honoi who wanted to create simple games non vilent games that reminded him of wie fell in lowered gaming in the first place and it quickly became one of the world's most downlorded games for android and iphons great ideas in tecnology no longer come from jassilican valley they can and do come from anywhere and now they can quickly reach scale i see hubbs growing all over the world germany brazo ukhe istrae china the latest figures say that twenty one persent of faras across sixty countries intend to start a business in the next thro years and there are over two hundred million women around the world who are starting or running a business it's clear that silikan valley is now as much an idea as a place and it is an ideal of what's possible and those of us who are lucky enough to have benefited from b aying and slikan valley or hubs like it owe it to the world to set a good example and clear pat for others and that is another reason i am exited to be here speaking to you because business is academia and governments all plain important role in remoing these barriers the intenate itself is a perfect example of this its argubly the greatest economic engine of all time and its success is largely a result of early collabration between the euis government the private sectr and researches from academic institutions including stamford they worked together and made deliberate policy choices to keep the platform open and bodiless the course of history shows that this open model can unleighe innovation opportunity and benefits for people everywhere in india under their early and inciteful desision was to create the indianiansuits of technology these are leading engineering and technical institutions that are government supported i still vividly remember as a tean ager jumping on to a crowded train in a channa in travelling for twenty four hours to atten my school at ieti irkpur and that opportunity change the course of my life these institutions over many decades have played a huge roll in creating generations of skilled onsperners in india there are many countries helping to create positive an mranment for their onterponers in the uas recently the departments of state and commerce appoint a digital economy offices who will work to remove barriers and help anteponers reach communities around the world at gugol we are committed to playing our part to foster the next genration of onterponers ar gugul for ansrupon esteem has established a number of campasses these provide space for anterponers to build and work together in ma ajer take habs to take their ideas and go globo we have opened campases in london mudred sapolo sol telawe and we look forward to reaching new cities in the future and perhaps welcoming some of you to drop by guwultool sell business is launch and grow every day more than thirty million small business is globily rely on our least one guul product to find customers to grow and to be productive training we are all committed to train five point five million people on digidil skills inlesting over hundred n forty million dollars during the past year in the next year we aim to provide free digidil skills training to one million young people in africa lon i know how much hard work it takes to pursue a dream of building a business the long hours time away from family the rejection the ideas you know are brilliant tha jest tone seem to catch chon there is a great goat from thomas edison that dust the best job of defining whar it's like to be an onteponer i have not failed i have just found ten thousand ways that don't work every one here is part of a tradition that stretches all the way back to edison and up to companies like gugle to day it's about more than building aps to make money it's about transforming int isteries creating millions of jobs curing diseases fighting gwobel warming and making our schools richer in reranments for our children so i hope you enjoy your time here in silican valley and i hope you find a summit invigorating and that when you get home it encrages you the continue building we are all looking to you the world is counting on you and we can wait to see what you build next thank you and to day we are making codboard available to egibitiki centrs around the world so people who cannot physically attend pride parates and festivals this weacon can still have the pride experience all of thers came from two engineers is in paris bright idea we don't know what's next or where'll come from but we know that the barryes to ontrponaship and to bringing adious to global audiences are tumbling people working anywhere in the world born anywhere in the world can create a product and make it available to any one in the world the most used messaging ap in south eastatia was built by a young man born a ewcrane humud the euas and the three most popular vidal games in the euis in recent years came from antoponers in femlin ireland and veit now yoorther one building the next coogo the next body fy the next desla the next while we don't even know but what i know is that someone in this room will bullet maybe someone even from the cast of silikan valley let me tell you a lilbet about my personal journey to slickan valley from india twenty two years ago growing up in india like many of you i got my first telephone when i was twelve in my case it turned out to be a rotory phone so it was n't that great for selfh ease but i still love to call my friends play with it and sometimes take it apart that telephone cemented my fascination with acknology i remember in my parents house in channi reading about the invention of the trancestor at bellapse of course that initial inmention help found ward became known as silican valley and out of that came companies like fachile semicondector an intol and all the computers and software that we all used to thank you a thank you to the president for conmening the globalantrponeship's summit and to standford for hosting we at gugo are proud to be supporting this summit and we are passionate about antrponership this is such an important issue for our company but also for our country and for a community of ntrponers around the world at gugo onter penership is an ardiane gouge was founded here at stanford and the company's first home was in a garage just a couple miles from here like many of you in the audience our founders were two young people with a vision of a better future a better way and and they decided to follow their dreams we now live on our own campas down the road and in dozens of countries but the spipit continues in fact our most popular products almost all began as big ideas that small ontropontyaf teams dreamed up and made happen gemale started with one person's passion to reanmand demale to day it has over one billyond monthly actif uses our brows are crone a small teams opsession to bring the faster more secure wep to every one now has over a billion monthly act i uses cardboard our virtual reality ve were two ingeneous in er paris office had an idea of watz possible with a piece of cardboard and a phone now more than five million viwwers are taking people to new worlds using cardboard teachers can take their classes on virtual field trips from the great barrier eeve to march apetsue first lady michelvarma made this part of her reach higher education in issue more than one million students from leven countries have gone on virtual field trips another early and incitful desision was to create the indian insuits of technology these are leading engineering and technical institutions that are government supported i still vividly remember as a tean ager jumping on to a crowded train in a chana i am travelling for twenty four hours to attend my school at ieti kirkwur and that opportunity change the course of my life these institutions over many decades have played a huge roll in creating generations of skilled onspurners in india there are man countries helping to create positive enranment for their onterponers in the uas recently the departments of state and commerce appoint a digital economy offices whowill work to remove barriers and help onserponers reach communities around the world at ugol we are committed to playing our part to foster the nextenration of onterponers aur gugul for onsrupon esteem as established a number of campasses these provide space for onserponers to build and work together in major tek habs to take their ideas and go globo we have opened campuses in london madred sapolo sol telawe and we look forward to reaching new ceries in the future and perhaps welcoming some of you to drop by guwiltooll sell business is launch and grow every day more than thirty million small business is globily rely on our least one guel product to find customers to grow and to be productive training we are also committed to train five point five million people on digidel skills interesting over hundred and forty million dollars during the past year in the next year we aim to provide free digidal skills training to one million young people in africa lone i know how much hard work it takes to pursue a dream of building a business the long hours time his name is dong leywent and he created flappybird er was a deviloper from honoi who wanted to create simple games non vilent games that reminded him of wi fell an lowered gaming in the first place and it quickly became one of the world's most downloardered games for android an iphons great ideas an technology no longer come from jassilican valley they can and do come from anywhere and now they can quickly reach scale i see hubs glowing all over the world germany brazil uke istrae china the latest figures say that twenty one percent of haras across sixty countries intend to start a business in the next thwro years and there are over two hundred million women around the world who are starting or running a business it's clear that silican valley is now as much an idea as a place and it is an ideal of what's possible and those of us who are lucky enough to have benefited from being in siliken valley y or hubs like it owe it to the world to set a good example and clear pat for others and that is another reason i am excited to be here speaking to you because business is academia and governments all pla an important role in removing these barriers the interate itself is a perfect example of this its argubly the greatest economic engine of all time and its success is largely a result of early collabration between the euis government the private sectr and researches from academic institutions including stamford they work together and made deliberate policy choices to keep the platform open and bodiless the course of history shows that this open model can unleige innovation opportunity and benefits for people everywhere in india aday you can draw a direct line from that invention to the tecknoledg y that powers your twitter feed or your reach ad message yesterday i remember reading about that and thinking it's the idea that matters it didn't matter where you come from or wart your backgrounders one revolutionary idea one brilliant invention can unleishe other anterponers to revolutionise industries and ways you could never predict the people who build the transistor in many ways enable the anserponers who are using incredible processing power to analyzed data and diagno's cancer in the same way the invention of smartfon an gipias has enabled other companies to build abs that revolutionary tov ad we travel aron cities that's why i came here i had a deep desire to be part of this exchange of ideas this community of ontroponers and coming to the global hub where this was all happening at stanford i felt welcomed and embraced people don't care where i came from only my ideas and hard work matter i'm not alone the valley attracts people from all over the world that is why you are here iam excited that over seven hundred antroponeurs from over hundred and seventy countries are joining us here to day the possibility that anyone with the right idea at the right time can have an impact on others there is no longer limited to a single place it's possible e everywhere what we are seeing now is an unprecedented global opportunity in china a few months ago i met enterbroners combining social commerce and business platforms in entairly new and unique ways and earlier i mentioned a game built by an anserproner from be at now when i was last in veat now i met him \n"
          ]
        }
      ]
    }
  ]
}